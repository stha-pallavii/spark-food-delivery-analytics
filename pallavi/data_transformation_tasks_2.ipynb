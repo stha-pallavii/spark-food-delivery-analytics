{
 "cells": [
  {
   "cell_type": "markdown",
   "id": "5d0b521d",
   "metadata": {},
   "source": [
    "## TASKS - Pallavi\n",
    "#### 1. Find the details of the restaurant that has the facility of a “book table” before.\n",
    "#### 2. Make a list of restaurants according to the type of restaurant and location of the restaurants.\n",
    "#### 3. List the top ten restaurants with the highest rating.\n",
    "#### 4. Find the average, maximum, and minimum votes grouped by location.\n",
    "#### 5. Change rate to float type by removing ‘/5’.\n",
    "#### 6. Find the correlation between cost and rating of the restaurants."
   ]
  },
  {
   "cell_type": "code",
   "execution_count": 1,
   "id": "83ac747d",
   "metadata": {},
   "outputs": [],
   "source": [
    "from pyspark.sql import SparkSession"
   ]
  },
  {
   "cell_type": "code",
   "execution_count": 2,
   "id": "a88e10dd",
   "metadata": {},
   "outputs": [
    {
     "name": "stdout",
     "output_type": "stream",
     "text": [
      "22/11/04 21:50:31 WARN Utils: Your hostname, pallavi-xps resolves to a loopback address: 127.0.1.1; using 192.168.1.81 instead (on interface wlp2s0)\n",
      "22/11/04 21:50:31 WARN Utils: Set SPARK_LOCAL_IP if you need to bind to another address\n"
     ]
    },
    {
     "name": "stderr",
     "output_type": "stream",
     "text": [
      "Setting default log level to \"WARN\".\n",
      "To adjust logging level use sc.setLogLevel(newLevel). For SparkR, use setLogLevel(newLevel).\n"
     ]
    },
    {
     "name": "stdout",
     "output_type": "stream",
     "text": [
      "22/11/04 21:50:31 WARN NativeCodeLoader: Unable to load native-hadoop library for your platform... using builtin-java classes where applicable\n"
     ]
    }
   ],
   "source": [
    "spark = SparkSession.builder.appName(\"Apache PySpark Final Project-Zomato\").getOrCreate()"
   ]
  },
  {
   "cell_type": "code",
   "execution_count": 3,
   "id": "c6d585a0",
   "metadata": {},
   "outputs": [],
   "source": [
    "zomato_df = spark.read.csv('data/cleaned_zomato_dataset_final.csv',inferSchema=True,header=True)"
   ]
  },
  {
   "cell_type": "code",
   "execution_count": 4,
   "id": "ce8db857",
   "metadata": {},
   "outputs": [
    {
     "name": "stdout",
     "output_type": "stream",
     "text": [
      "root\n",
      " |-- name: string (nullable = true)\n",
      " |-- online_order: string (nullable = true)\n",
      " |-- book_table: string (nullable = true)\n",
      " |-- rating: string (nullable = true)\n",
      " |-- votes: integer (nullable = true)\n",
      " |-- phone: string (nullable = true)\n",
      " |-- location: string (nullable = true)\n",
      " |-- type: string (nullable = true)\n",
      " |-- dish_liked: string (nullable = true)\n",
      " |-- cuisines: string (nullable = true)\n",
      " |-- approx_cost_two_people: string (nullable = true)\n",
      "\n"
     ]
    }
   ],
   "source": [
    "zomato_df.printSchema()"
   ]
  },
  {
   "cell_type": "code",
   "execution_count": 5,
   "id": "6c0ce2c5",
   "metadata": {},
   "outputs": [],
   "source": [
    "from pyspark.sql.types import IntegerType\n",
    "from pyspark.sql.functions import col\n",
    "\n",
    "zomato_df = zomato_df.withColumn('approx_cost_two_people', col('approx_cost_two_people').cast(IntegerType()))"
   ]
  },
  {
   "cell_type": "markdown",
   "id": "9cee9ce5",
   "metadata": {},
   "source": [
    "# SOLUTIONS"
   ]
  },
  {
   "cell_type": "markdown",
   "id": "ed17fb13",
   "metadata": {},
   "source": [
    "## 1. Find the details of the restaurant that has the facility of a “book table” before."
   ]
  },
  {
   "cell_type": "code",
   "execution_count": 6,
   "id": "d5aca7e2",
   "metadata": {},
   "outputs": [
    {
     "name": "stdout",
     "output_type": "stream",
     "text": [
      "+------------------+------------------+----------------+---------------+------+--------------------+--------------------+-----------------------+\n",
      "|   Restaurant Name|          Location|Contact Number/s|Restaurant Type|Rating|  Cuisines Available|   Most Liked Dishes|Table Booking Facility?|\n",
      "+------------------+------------------+----------------+---------------+------+--------------------+--------------------+-----------------------+\n",
      "|      Cafe Shuffle|      Banashankari|  +91 9742166777|           Cafe| 4.2/5|Cafe, Italian, Co...|Mocktails, Peri F...|                    Yes|\n",
      "|  The Coffee Shack|      Banashankari|  +91 9731644212|           Cafe| 4.2/5|Cafe, Chinese, Co...|Coffee, Spaghetti...|                    Yes|\n",
      "|          Goa 0 Km|Kumaraswamy Layout|    080 49653548|  Casual Dining| 3.6/5|Goan, Seafood, No...|Sea Food, Crab Me...|                    Yes|\n",
      "|Sri Udupi Food Hub|         Jayanagar|  +91 9916866033|  Casual Dining| 4.1/5|South Indian, Nor...|Filter Coffee, Ma...|                    Yes|\n",
      "|         Patio 805|         Jayanagar|  +91 8884999805|  Casual Dining| 4.1/5|Thai, Vietnamese,...|Noodles, Laksa So...|                    Yes|\n",
      "+------------------+------------------+----------------+---------------+------+--------------------+--------------------+-----------------------+\n",
      "only showing top 5 rows\n",
      "\n"
     ]
    },
    {
     "data": {
      "text/plain": [
       "2836"
      ]
     },
     "execution_count": 6,
     "metadata": {},
     "output_type": "execute_result"
    }
   ],
   "source": [
    "restaurant_names_df = zomato_df.filter(col('book_table') == 'Yes').select(col('name').alias(\"Restaurant Name\"),\\\n",
    "                      col('location').alias(\"Location\"), col('phone').alias(\"Contact Number/s\"),\\\n",
    "                      col('type').alias('Restaurant Type'), col('rating').alias('Rating'),\\\n",
    "                      col('cuisines').alias(\"Cuisines Available\"), col('dish_liked').alias('Most Liked Dishes'),\\\n",
    "                      col('book_table').alias('Table Booking Facility?'))\n",
    "\n",
    "restaurant_names_df.show(5)\n",
    "restaurant_names_df.count()"
   ]
  },
  {
   "cell_type": "code",
   "execution_count": 7,
   "id": "1289f443",
   "metadata": {},
   "outputs": [],
   "source": [
    "restaurant_names_df.toPandas().to_csv('zomato_output_csv/1.Restaurants_with_book_table_facility.csv', index=False)"
   ]
  },
  {
   "cell_type": "markdown",
   "id": "87de0538",
   "metadata": {},
   "source": [
    "### Interpretation:\n",
    "Only 2836 restaurants have advance table booking facility. "
   ]
  },
  {
   "cell_type": "markdown",
   "id": "1bbe3843",
   "metadata": {},
   "source": [
    "## 2. Make a list of restaurants according to the type of restaurant and location of the restaurants."
   ]
  },
  {
   "cell_type": "code",
   "execution_count": 8,
   "id": "47865043",
   "metadata": {},
   "outputs": [
    {
     "name": "stdout",
     "output_type": "stream",
     "text": [
      "+------------+--------------------+--------------------+\n",
      "|        type|            location|     restaurant list|\n",
      "+------------+--------------------+--------------------+\n",
      "|      Bakery|                 BTM|[Sweet Truth, Jus...|\n",
      "|      Bakery|           Banaswadi|[The Gluten Free ...|\n",
      "|      Bakery|   Bannerghatta Road|[Amma's Pastries,...|\n",
      "|      Bakery|        Basavanagudi|[Amande Patisseri...|\n",
      "|      Bakery|         Frazer Town|[Atty's Bakery, T...|\n",
      "|      Bakery|          HBR Layout|   [Amma's Pastries]|\n",
      "|      Bakery|                 HSR|[Just Bake, L J I...|\n",
      "|      Bakery|ITPL Main Road, W...|           [Cakesta]|\n",
      "|      Bakery|         Indiranagar|    [Karachi Bakery]|\n",
      "|      Bakery|            JP Nagar|[Bake Addiction, ...|\n",
      "|      Bakery|  Jeevan Bhima Nagar|         [Just Bake]|\n",
      "|      Bakery|        Kalyan Nagar|         [Just Bake]|\n",
      "|      Bakery|Koramangala 1st B...|           [Bakingo]|\n",
      "|      Bakery|Koramangala 5th B...|         [Just Bake]|\n",
      "|      Bakery|        Malleshwaram|[Bun World, Amma'...|\n",
      "|      Bakery|        Marathahalli|          [CakeZone]|\n",
      "|      Bakery|         Rajajinagar|[O.G. Variar & Sons]|\n",
      "|      Bakery|          Whitefield|[Little Black Cho...|\n",
      "|Bakery, Cafe|         Indiranagar|        [Breadworks]|\n",
      "|Bakery, Cafe|       Kaggadasapura|    [House of Torte]|\n",
      "+------------+--------------------+--------------------+\n",
      "only showing top 20 rows\n",
      "\n"
     ]
    }
   ],
   "source": [
    "import pyspark.sql.functions as f\n",
    "from pyspark.sql.functions import collect_set\n",
    "from pyspark.sql import Window as W  \n",
    "\n",
    "window_spec = W.partitionBy('type', 'location')\n",
    "\n",
    "restaurants_list = zomato_df\\\n",
    "                    .withColumn('restaurant list', collect_set('name').over(window_spec))\\\n",
    "                    .select('type', 'location', 'restaurant list')\\\n",
    "                    .distinct().dropna()\n",
    "\n",
    "restaurants_list.show()"
   ]
  },
  {
   "cell_type": "code",
   "execution_count": 9,
   "id": "ef91c247",
   "metadata": {},
   "outputs": [],
   "source": [
    "restaurants_list.toPandas().to_csv('zomato_output_csv/2.Restaurants_list_acc_to_type_location.csv', index=False)"
   ]
  },
  {
   "cell_type": "markdown",
   "id": "22a9f8d8",
   "metadata": {},
   "source": [
    "## 3. List the top ten restaurants with the highest rating"
   ]
  },
  {
   "cell_type": "code",
   "execution_count": 10,
   "id": "3152a04b",
   "metadata": {},
   "outputs": [
    {
     "name": "stdout",
     "output_type": "stream",
     "text": [
      "+--------------------+------+\n",
      "|  Name of Restaurant|Rating|\n",
      "+--------------------+------+\n",
      "|Byg Brewski Brewi...| 4.9/5|\n",
      "|Byg Brewski Brewi...| 4.9/5|\n",
      "|Byg Brewski Brewi...| 4.9/5|\n",
      "|Asia Kitchen By M...| 4.9/5|\n",
      "|Belgian Waffle Fa...| 4.9/5|\n",
      "|Belgian Waffle Fa...| 4.9/5|\n",
      "|            Flechazo| 4.9/5|\n",
      "|            Flechazo| 4.9/5|\n",
      "|AB's - Absolute B...| 4.9/5|\n",
      "|Asia Kitchen By M...| 4.9/5|\n",
      "+--------------------+------+\n",
      "\n"
     ]
    }
   ],
   "source": [
    "from pyspark.sql.functions import desc\n",
    "\n",
    "top_rated_restaurants = zomato_df.select(col('name').alias(\"Name of Restaurant\"),\\\n",
    "                                      col('rating').alias(\"Rating\"))\\\n",
    "                                      .orderBy(desc(col(\"rating\")))\\\n",
    "                                      .limit(10)\n",
    "\n",
    "top_rated_restaurants.show()"
   ]
  },
  {
   "cell_type": "code",
   "execution_count": 11,
   "id": "4363a45e",
   "metadata": {},
   "outputs": [],
   "source": [
    "top_rated_restaurants.toPandas().to_csv('zomato_output_csv/3.Top_10_rated_restaurants.csv', index=False)"
   ]
  },
  {
   "cell_type": "markdown",
   "id": "6163b089",
   "metadata": {},
   "source": [
    "### Interpretation:\n",
    "The highest rating is 4.9/5 and top 10 restaurants have that rating"
   ]
  },
  {
   "cell_type": "markdown",
   "id": "0f46914d",
   "metadata": {},
   "source": [
    "## 4. Find the average, maximum, and minimum votes grouped by location"
   ]
  },
  {
   "cell_type": "code",
   "execution_count": 12,
   "id": "abed4019",
   "metadata": {},
   "outputs": [],
   "source": [
    "from pyspark.sql.functions import avg, min, max"
   ]
  },
  {
   "cell_type": "code",
   "execution_count": 13,
   "id": "b35c1afe",
   "metadata": {},
   "outputs": [
    {
     "name": "stdout",
     "output_type": "stream",
     "text": [
      "+--------------------+------------------+-------------+-------------+\n",
      "|            location|     average_votes|maximum_votes|minimum_votes|\n",
      "+--------------------+------------------+-------------+-------------+\n",
      "|Koramangala 5th B...|1321.9143135345666|        14726|            0|\n",
      "|       Church Street|1092.4142259414225|         4748|           32|\n",
      "|       Sarjapur Road|1043.5330578512396|        16832|            0|\n",
      "|             MG Road|1015.5472972972973|         4616|            0|\n",
      "|    Old Airport Road| 953.0693069306931|         9300|           26|\n",
      "|       Infantry Road| 950.2666666666667|         2051|           89|\n",
      "|Koramangala 3rd B...| 935.7156862745098|         2717|           75|\n",
      "|        Lavelle Road| 935.5355191256831|         3730|           53|\n",
      "|Koramangala 4th B...| 916.3963414634146|         7871|            0|\n",
      "|         Indiranagar| 848.5818476499189|        14956|            0|\n",
      "|        Brigade Road| 711.8695652173913|         4448|            0|\n",
      "|Koramangala 6th B...| 702.9035532994924|         4660|           33|\n",
      "|Koramangala 7th B...| 693.1459627329192|         6385|           36|\n",
      "|          Whitefield| 660.2748691099476|         7064|            0|\n",
      "|        Marathahalli| 653.3201219512196|        12121|            0|\n",
      "|            RT Nagar|             632.6|         2692|           78|\n",
      "|      Sadashiv Nagar|             592.0|          592|          592|\n",
      "|         Rajajinagar| 552.2337662337662|         2423|           39|\n",
      "|      West Bangalore|             536.0|          537|          535|\n",
      "|     North Bangalore|             531.0|          531|          531|\n",
      "+--------------------+------------------+-------------+-------------+\n",
      "only showing top 20 rows\n",
      "\n"
     ]
    }
   ],
   "source": [
    "votes_summary_by_location = zomato_df.groupBy(\"location\").agg(avg(\"votes\").alias(\"average_votes\"),\\\n",
    "                                                              max(\"votes\").alias(\"maximum_votes\"),\\\n",
    "                                                              min(\"votes\").alias(\"minimum_votes\")\n",
    "                                                              )\\\n",
    "                                     .orderBy(desc(\"average_votes\"))\n",
    "votes_summary_by_location.show()"
   ]
  },
  {
   "cell_type": "code",
   "execution_count": 14,
   "id": "920af1a6",
   "metadata": {},
   "outputs": [],
   "source": [
    "votes_summary_by_location.toPandas().to_csv('zomato_output_csv/4.Avg_max_min_Votes_by_Location.csv', index=False)"
   ]
  },
  {
   "cell_type": "markdown",
   "id": "914f4dbc",
   "metadata": {},
   "source": [
    "### Interpretation:\n",
    "Koramangala 5th Block is the location where restaurants have the highest average_votes (1321) followed by Church Street and Sarjapur Road"
   ]
  },
  {
   "cell_type": "markdown",
   "id": "fd6d632d",
   "metadata": {},
   "source": [
    "## 5. Change rate to float type by removing ‘/5’"
   ]
  },
  {
   "cell_type": "code",
   "execution_count": 15,
   "id": "41a4d1f8",
   "metadata": {},
   "outputs": [],
   "source": [
    "from pyspark.sql.functions import udf\n",
    "from pyspark.sql.types import StringType, FloatType"
   ]
  },
  {
   "cell_type": "code",
   "execution_count": 16,
   "id": "da5af5e2",
   "metadata": {},
   "outputs": [],
   "source": [
    "def convert(strr):\n",
    "    if(strr == 'NEW' or strr == '-'):\n",
    "        return \"0\"\n",
    "    else:\n",
    "        value = str(strr).split('/')\n",
    "        value = value[0]\n",
    "        return float(value)"
   ]
  },
  {
   "cell_type": "code",
   "execution_count": 17,
   "id": "3c114497",
   "metadata": {},
   "outputs": [],
   "source": [
    "convert_UDF = udf(lambda string : convert(string),StringType())"
   ]
  },
  {
   "cell_type": "code",
   "execution_count": 18,
   "id": "1d4264ec",
   "metadata": {},
   "outputs": [],
   "source": [
    "new_zomato_df = zomato_df.withColumn(\"rating\", convert_UDF(col('rating')))"
   ]
  },
  {
   "cell_type": "code",
   "execution_count": 19,
   "id": "3b28a513",
   "metadata": {},
   "outputs": [],
   "source": [
    "new_zomato_df = new_zomato_df.withColumn('rating', col('rating').cast(FloatType()))"
   ]
  },
  {
   "cell_type": "code",
   "execution_count": 20,
   "id": "1084e965",
   "metadata": {},
   "outputs": [
    {
     "name": "stdout",
     "output_type": "stream",
     "text": [
      "+------+\n",
      "|rating|\n",
      "+------+\n",
      "|   4.1|\n",
      "|   3.8|\n",
      "|   3.7|\n",
      "|   4.2|\n",
      "|   4.2|\n",
      "|   4.0|\n",
      "|   3.8|\n",
      "|   3.9|\n",
      "|   3.7|\n",
      "|   4.0|\n",
      "+------+\n",
      "only showing top 10 rows\n",
      "\n"
     ]
    },
    {
     "name": "stderr",
     "output_type": "stream",
     "text": [
      "\r",
      "[Stage 26:>                                                         (0 + 1) / 1]\r",
      "\r",
      "                                                                                \r"
     ]
    }
   ],
   "source": [
    "new_zomato_df.select(col('rating')).show(10)"
   ]
  },
  {
   "cell_type": "code",
   "execution_count": 21,
   "id": "327002c4",
   "metadata": {},
   "outputs": [
    {
     "name": "stdout",
     "output_type": "stream",
     "text": [
      "root\n",
      " |-- name: string (nullable = true)\n",
      " |-- online_order: string (nullable = true)\n",
      " |-- book_table: string (nullable = true)\n",
      " |-- rating: float (nullable = true)\n",
      " |-- votes: integer (nullable = true)\n",
      " |-- phone: string (nullable = true)\n",
      " |-- location: string (nullable = true)\n",
      " |-- type: string (nullable = true)\n",
      " |-- dish_liked: string (nullable = true)\n",
      " |-- cuisines: string (nullable = true)\n",
      " |-- approx_cost_two_people: integer (nullable = true)\n",
      "\n"
     ]
    }
   ],
   "source": [
    "new_zomato_df.printSchema()"
   ]
  },
  {
   "cell_type": "code",
   "execution_count": 22,
   "id": "61d38727",
   "metadata": {},
   "outputs": [],
   "source": [
    "new_zomato_df.toPandas().to_csv('zomato_output_csv/5.Change_rate_to_float_type_by_removing_5.csv', index=False)"
   ]
  },
  {
   "cell_type": "markdown",
   "id": "ff35489e",
   "metadata": {},
   "source": [
    "### Interpretation:\n",
    "The rating column was modified and changed to float data type. This will aid in further tasks (like calculating correlation coefficient)"
   ]
  },
  {
   "cell_type": "markdown",
   "id": "6537441e",
   "metadata": {},
   "source": [
    "## 6. Find the correlation between cost and rating of the restaurants."
   ]
  },
  {
   "cell_type": "code",
   "execution_count": 23,
   "id": "97840274",
   "metadata": {},
   "outputs": [],
   "source": [
    "from pyspark.sql.functions import corr"
   ]
  },
  {
   "cell_type": "code",
   "execution_count": 24,
   "id": "6bf6ae82",
   "metadata": {},
   "outputs": [],
   "source": [
    "correlation_df = new_zomato_df.select(f.corr('approx_cost_two_people', 'rating'))"
   ]
  },
  {
   "cell_type": "code",
   "execution_count": 25,
   "id": "517b4d6f",
   "metadata": {},
   "outputs": [
    {
     "name": "stdout",
     "output_type": "stream",
     "text": [
      "+------------------------------------+\n",
      "|corr(approx_cost_two_people, rating)|\n",
      "+------------------------------------+\n",
      "|                 0.07388867845850675|\n",
      "+------------------------------------+\n",
      "\n"
     ]
    }
   ],
   "source": [
    "correlation_df.show()"
   ]
  },
  {
   "cell_type": "code",
   "execution_count": 26,
   "id": "3eafbd50",
   "metadata": {},
   "outputs": [],
   "source": [
    "correlation_df.toPandas().to_csv('zomato_output_csv/6.Correlation_between_cost_and_rating.csv', index=False)"
   ]
  },
  {
   "cell_type": "markdown",
   "id": "3e1c6338",
   "metadata": {},
   "source": [
    "### Interpretation: \n",
    "There is very low, positive correlation between cost and rating of restaurants. As the value of correlation coefficient is nearly equal to zero, there appears to be no relationship between pricing of restaurants and ratings received by them."
   ]
  }
 ],
 "metadata": {
  "kernelspec": {
   "display_name": "Python 3 (ipykernel)",
   "language": "python",
   "name": "python3"
  },
  "language_info": {
   "codemirror_mode": {
    "name": "ipython",
    "version": 3
   },
   "file_extension": ".py",
   "mimetype": "text/x-python",
   "name": "python",
   "nbconvert_exporter": "python",
   "pygments_lexer": "ipython3",
   "version": "3.10.6"
  }
 },
 "nbformat": 4,
 "nbformat_minor": 5
}
